{
 "cells": [
  {
   "cell_type": "markdown",
   "id": "033e2438-7833-4878-9015-a0b200b42b1e",
   "metadata": {
    "tags": []
   },
   "source": [
    "# Flight Report\n",
    "**Created by mrpintime**  \n",
    "I currently work in DataScience field"
   ]
  },
  {
   "cell_type": "markdown",
   "id": "a182afeb-a2e1-4423-90cf-858d8e296425",
   "metadata": {},
   "source": [
    "data analysis project"
   ]
  },
  {
   "cell_type": "markdown",
   "id": "10b8ec0a-2d1f-4a07-9b4e-3a3a05c2e8b0",
   "metadata": {
    "tags": []
   },
   "source": [
    "## Get details about aircraft by passing flight number to program\n",
    "***BETA version***"
   ]
  },
  {
   "cell_type": "code",
   "execution_count": 1,
   "id": "37a661dc-e9d9-42bc-9481-500b311770cf",
   "metadata": {},
   "outputs": [],
   "source": [
    "import requests as req\n",
    "from datetime import datetime"
   ]
  },
  {
   "cell_type": "code",
   "execution_count": 2,
   "id": "cc9fcdd6-3001-44b2-a432-dfdd178552d1",
   "metadata": {},
   "outputs": [],
   "source": [
    "\n",
    "payload_cloud = {\n",
    "\n",
    "    \"faa\": \"1\",\n",
    "    \"satellite\": \"1\",\n",
    "    \"mlat\": \"1\",\n",
    "    \"flarm\": \"1\",\n",
    "    \"adsb\": \"1\",\n",
    "    \"gnd\": \"1\",\n",
    "    \"air\": \"1\",\n",
    "    \"vehicles\": \"1\",\n",
    "    \"estimated\": \"1\",\n",
    "    \"maxage\": \"14400\",\n",
    "    \"gliders\": \"1\",\n",
    "    \"stats\": \"1\",\n",
    "    \"limit\": \"50000\",\n",
    "    \"uat\": \"1\",\n",
    "    \"other\": \"1\"\n",
    "}\n",
    "\n",
    "header = {\n",
    "'user-agent': 'Mozilla/5.0 (X11; Linux x86_64) AppleWebKit/537.36 (KHTML, like Gecko) Chrome/109.0.0.0 Safari/537.36'\n",
    "        }\n",
    "\n",
    "class Flight_report(object):\n",
    "    \n",
    "    # TODO: create method for more details about aircraft like : better UI, photo, explain iatat code, time of arrival and departure. \n",
    "    \n",
    "    \n",
    "    def __init__(self, header, payload_cloud):\n",
    "        # self.live_url = \"https://data-live.flightradar24.com/clickhandler/?flight=\"\n",
    "        self.cloud_data = req.get(\"https://data-cloud.flightradar24.com/zones/fcgi/feed.js\", params=payload_cloud, headers=header)\n",
    "        self.json_cdata = self.cloud_data.json()\n",
    "        # id of aircraft or index\n",
    "        self.num_index = []\n",
    "        \n",
    "        #create public and private list\n",
    "        self.pubflightnum = []\n",
    "        self.priflightnum = []\n",
    "        \n",
    "        #create list of identifications \n",
    "        for i in self.json_cdata:\n",
    "                if type(self.json_cdata[i]) != list:\n",
    "                    continue\n",
    "                self.num_index.append(i)\n",
    "                \n",
    "        #create flight number lists [public and private]\n",
    "        for i in range(0,len(self.num_index)):\n",
    "            if self.json_cdata[self.num_index[i]][13] == \"\":\n",
    "                self.priflightnum.append({self.num_index[i]:\"Private Owner\"})\n",
    "            else:\n",
    "                self.pubflightnum.append(self.json_cdata[self.num_index[i]][13])\n",
    "        \n",
    "    # create method for showing public flight number list    \n",
    "    def flightnumList(self):\n",
    "        numOf_publicAirline = len(self.pubflightnum) \n",
    "        inputnum = input(f\"Hey! There is {numOf_publicAirline} public airlines, how many number do want to see?\").strip()\n",
    "        try:\n",
    "            intnum = int(inputnum)\n",
    "            if intnum > numOf_publicAirline:\n",
    "                intnum = numOf_publicAirline \n",
    "        except:\n",
    "            print(\"Enter integer number!!\")\n",
    "        else:\n",
    "            for i in range(0, intnum):\n",
    "                print(f\"{i+1}-{self.pubflightnum[i]}\")\n",
    "    \n",
    "    # create method for showing details about aircraft    \n",
    "    def searchByflightNum(self,num):\n",
    "        for i in self.num_index:\n",
    "            if self.json_cdata[i][13] == num.upper():\n",
    "                details = f\"\"\"\n",
    "**details about aircraft                \n",
    "time of record [based on your timezone] [YYYY-MM-DD HH:MM:SS]:{datetime.fromtimestamp(self.json_cdata[i][10])}\n",
    "*************************************************************\n",
    "hexcode of aircraft:{self.json_cdata[i][0]}\n",
    "latitude:{self.json_cdata[i][1]}\n",
    "longitude:{self.json_cdata[i][2]}\n",
    "heading [direction aircraft is flying(°)]:{self.json_cdata[i][3]}\n",
    "altitude [meter]:{round(self.json_cdata[i][4]*0.3048)}\n",
    "speed [ground speed km/h]:{round(self.json_cdata[i][5]*1.852)}\n",
    "aircraft Type:{self.json_cdata[i][8]}\n",
    "aircraft registration number:{self.json_cdata[i][9]}\n",
    "origin [iata code]:{self.json_cdata[i][11]}\n",
    "destination [iata code]:{self.json_cdata[i][12]}\n",
    "flight Number:{self.json_cdata[i][13]}\n",
    "vertical speed [feet per minute(fpm)]:{self.json_cdata[i][15]}\n",
    "call sign:{self.json_cdata[i][16]}\n",
    "airline Icao:{self.json_cdata[i][18]}\n",
    "                            \"\"\"\n",
    "                print(details)\n",
    "                return\n",
    "        # can not find aircraft with this flight number \n",
    "        print(\"Sorry i can not find your flight number\")\n"
   ]
  },
  {
   "cell_type": "code",
   "execution_count": 3,
   "id": "b0c8bfc0-e448-41d6-b637-85bd5c563455",
   "metadata": {},
   "outputs": [],
   "source": [
    "# create an instance object\n",
    "flight_report = Flight_report(header=header, payload_cloud=payload_cloud)"
   ]
  },
  {
   "cell_type": "code",
   "execution_count": 4,
   "id": "ece333fa-372c-4cfd-ab05-da7210fe1c03",
   "metadata": {},
   "outputs": [
    {
     "name": "stdin",
     "output_type": "stream",
     "text": [
      "Hey! There is 1384 public airlines, how many number do want to see? 8\n"
     ]
    },
    {
     "name": "stdout",
     "output_type": "stream",
     "text": [
      "1-FX760\n",
      "2-FX350\n",
      "3-UA101\n",
      "4-DL1459\n",
      "5-EK235\n",
      "6-SQ23\n",
      "7-NZ27\n",
      "8-QF8\n"
     ]
    }
   ],
   "source": [
    "flight_report.flightnumList()"
   ]
  },
  {
   "cell_type": "code",
   "execution_count": 5,
   "id": "a11812ac-720c-40f8-9a44-a0e79e20f6fa",
   "metadata": {},
   "outputs": [
    {
     "name": "stdout",
     "output_type": "stream",
     "text": [
      "\n",
      "**details about aircraft                \n",
      "time of record [based on your timezone] [YYYY-MM-DD HH:MM:SS]:2023-01-30 20:41:50\n",
      "*************************************************************\n",
      "hexcode of aircraft:A0A30E\n",
      "latitude:32.5217\n",
      "longitude:-96.9731\n",
      "heading [direction aircraft is flying(°)]:158\n",
      "altitude [meter]:10668\n",
      "speed [ground speed km/h]:815\n",
      "aircraft Type:BCS1\n",
      "aircraft registration number:N140DU\n",
      "origin [iata code]:BTF\n",
      "destination [iata code]:\n",
      "flight Number:DL1459\n",
      "vertical speed [feet per minute(fpm)]:0\n",
      "call sign:DAL1459\n",
      "airline Icao:DAL\n",
      "                            \n"
     ]
    }
   ],
   "source": [
    "flight_report.searchByflightNum(num=\"DL1459\")"
   ]
  },
  {
   "cell_type": "code",
   "execution_count": null,
   "id": "bd328775-9dc7-40d7-accc-3f1dab6f1239",
   "metadata": {},
   "outputs": [],
   "source": []
  }
 ],
 "metadata": {
  "kernelspec": {
   "display_name": "env",
   "language": "python",
   "name": "env"
  },
  "language_info": {
   "codemirror_mode": {
    "name": "ipython",
    "version": 3
   },
   "file_extension": ".py",
   "mimetype": "text/x-python",
   "name": "python",
   "nbconvert_exporter": "python",
   "pygments_lexer": "ipython3",
   "version": "3.10.6"
  }
 },
 "nbformat": 4,
 "nbformat_minor": 5
}
